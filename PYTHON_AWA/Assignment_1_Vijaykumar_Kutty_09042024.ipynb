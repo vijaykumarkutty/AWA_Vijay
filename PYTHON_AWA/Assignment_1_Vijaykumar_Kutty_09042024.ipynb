{
 "cells": [
  {
   "cell_type": "code",
   "execution_count": null,
   "id": "0af92b2e-0686-41c1-a80a-78a4fbbae379",
   "metadata": {},
   "outputs": [],
   "source": [
    "#Vijaykumar Kutty\n",
    "#4th Sept 2024"
   ]
  },
  {
   "cell_type": "code",
   "execution_count": null,
   "id": "9a3d59d3-4e48-47da-834e-ad9f1b67381e",
   "metadata": {},
   "outputs": [],
   "source": [
    "#Q1.a Understanding variables - Defined Variable that stores the name"
   ]
  },
  {
   "cell_type": "code",
   "execution_count": 4,
   "id": "985f6e3c-2da7-4364-a91a-cae6473eb5d8",
   "metadata": {},
   "outputs": [
    {
     "name": "stdout",
     "output_type": "stream",
     "text": [
      "Vijaykumar Kutty\n"
     ]
    }
   ],
   "source": [
    "First_name = \"Vijaykumar Kutty\"\n",
    "print (First_name)"
   ]
  },
  {
   "cell_type": "code",
   "execution_count": null,
   "id": "6e63b08a",
   "metadata": {},
   "outputs": [],
   "source": [
    "#Q1.b Difference between a variable and Constant\n",
    "\n",
    "#Variable - As the name implies, it's the data item whose value can changed while executing program i.e. multable (values can be changed/updated)\n",
    "\n",
    "#Constant - It's the data item whose value can not be changed while executing program i.e. immutable (values can't be changed/updated)"
   ]
  },
  {
   "cell_type": "code",
   "execution_count": null,
   "id": "bf733333-9248-4ed1-9c32-088d06eae32d",
   "metadata": {},
   "outputs": [],
   "source": [
    "#Q2. Working with Different Data Types along with display of type\n",
    "#1. Integer - An Integer is whole number without decimal points\n",
    "#2. Float - Number with decimal points\n",
    "#3. String - String is sequence of characters present in quotes\n",
    "#4. Boolean - It represents one of the two values either \"True\" or \"False\"\n"
   ]
  },
  {
   "cell_type": "code",
   "execution_count": 5,
   "id": "fd972bab-bd8d-4777-b71d-0d06a5edf053",
   "metadata": {},
   "outputs": [
    {
     "name": "stdout",
     "output_type": "stream",
     "text": [
      "<class 'int'>\n",
      "<class 'float'>\n",
      "<class 'str'>\n",
      "False\n",
      "<class 'bool'>\n"
     ]
    }
   ],
   "source": [
    "Var_Integer = 17\n",
    "VJ_Float = 17.092016\n",
    "VJ_String = \"Welcome To Python Course with AWA\"\n",
    "num1=10\n",
    "num2=30\n",
    "VJ_boolean = num1>num2\n",
    "\n",
    "print (type (Var_Integer))\n",
    "print (type (VJ_Float))\n",
    "print (type (VJ_String))\n",
    "print(VJ_boolean)\n",
    "print (type (VJ_boolean))\n"
   ]
  },
  {
   "cell_type": "code",
   "execution_count": null,
   "id": "09f5aeb0-6095-4da3-9adc-78136fddeef2",
   "metadata": {},
   "outputs": [],
   "source": [
    "#Q3.a Arithmetic Operators\n",
    "#1 Addition ('+') - To Add numbers together\n",
    "#2 Subtraction ('-') - To subtract number \n",
    "#3 Multiplication ('*') - To multiply numbers\n",
    "#4 Division ('/') - To divide numbers\n",
    "#5 Floor Division ('//') - To divide numbers and returing value will be the quotient without the remainder\n",
    "#6. Modulus('%') - Returns the remainder of the division of 1st number by the 2nd number\n",
    "#7. Exponentiation(**) - Raises the 1st number to the power of 2nd number"
   ]
  },
  {
   "cell_type": "code",
   "execution_count": 21,
   "id": "3c590aa2-66d7-440c-893c-ae7785d8446d",
   "metadata": {},
   "outputs": [
    {
     "name": "stdout",
     "output_type": "stream",
     "text": [
      "Total of addition is  52\n",
      "Total of subtraction is  9\n",
      "Total of multiplication is  52\n",
      "Total of division is  3.25\n",
      "Total of floor division is  3\n",
      "Total of Modulus is  1\n",
      "Total of Exponentiation is  28561\n"
     ]
    }
   ],
   "source": [
    "Value_1 = 13\n",
    "Value_2 = 4\n",
    "Value_3 = 35\n",
    "\n",
    "Addition = Value_1 + Value_2 + Value_3\n",
    "print(\"Total of addition is \",Addition)\n",
    "\n",
    "Subtraction = Value_1 - Value_2\n",
    "print(\"Total of subtraction is \",Subtraction)\n",
    "\n",
    "Multiplication = Value_1 * Value_2\n",
    "print(\"Total of multiplication is \",Multiplication)\n",
    "\n",
    "divide = Value_1 / Value_2\n",
    "print(\"Total of division is \",divide)\n",
    "\n",
    "Total = Value_1 // Value_2\n",
    "print(\"Total of floor division is \",Total)\n",
    "\n",
    "Modulus = Value_1 % Value_2\n",
    "print(\"Total of Modulus is \",Modulus)\n",
    "\n",
    "Expon = Value_1 ** Value_2\n",
    "print(\"Total of Exponentiation is \",Expon)"
   ]
  },
  {
   "cell_type": "code",
   "execution_count": 66,
   "id": "9262cfa1-bdd3-4f13-9da5-d778d5e5d733",
   "metadata": {},
   "outputs": [
    {
     "name": "stdout",
     "output_type": "stream",
     "text": [
      "Area Of Rectangle : 50\n"
     ]
    }
   ],
   "source": [
    "#Q3.b Calculate the area of a rectangle\n",
    "\n",
    "#Defining the variables for calculation\n",
    "length = 5\n",
    "width = 10\n",
    "\n",
    "#Calcualtion\n",
    "Area = (length*width)\n",
    "\n",
    "print(\"Area Of Rectangle :\",Area)"
   ]
  },
  {
   "cell_type": "code",
   "execution_count": 33,
   "id": "9e9af72e-672d-4bcb-b957-4a548fc551f0",
   "metadata": {},
   "outputs": [
    {
     "name": "stdout",
     "output_type": "stream",
     "text": [
      "Value_1 and Value_2 are Equal -  False\n",
      "Value_1 and Value_2 are Not Equal -  True\n",
      "Value_1 is greater than Value_2 -  True\n",
      "Value_1 is less than Value_2  -  False\n",
      "Value_1 is greater than or equal to Value_2 -  True\n",
      "Value_2 is less than or equal to Value_1 -  True\n"
     ]
    }
   ],
   "source": [
    "#Q4a. Comparison and Logical Operators - Explanation with examples\n",
    "#1. Equal to ('==') - To check if two values are equal\n",
    "#2. NotEqual to ('!=') - To check if two values are not equal\n",
    "#3. Greater than('>') - To check which value is greater than another\n",
    "#4. Less than('<') - To check which value is less than another\n",
    "#5. Greater than or equal to ('>=') - To check which value is greater than or equal to another\n",
    "\n",
    "#e.g. with different values\n",
    "Value_1 = 15\n",
    "Value_2 = 2\n",
    "Compare_1 =(Value_1 == Value_2) \n",
    "Compare_2 =(Value_1 != Value_2)\n",
    "Compare_3 =(Value_1 > Value_2)\n",
    "Compare_4 =(Value_1 < Value_2)\n",
    "Compare_5 =(Value_1 >= Value_2)\n",
    "Compare_6 =(Value_2 <= Value_1)\n",
    "\n",
    "\n",
    "print(\"Value_1 and Value_2 are Equal - \",Compare_1)\n",
    "print(\"Value_1 and Value_2 are Not Equal - \",Compare_2)\n",
    "print(\"Value_1 is greater than Value_2 - \",Compare_3)\n",
    "print(\"Value_1 is less than Value_2  - \",Compare_4)\n",
    "print(\"Value_1 is greater than or equal to Value_2 - \",Compare_5)\n",
    "print(\"Value_2 is less than or equal to Value_1 - \",Compare_6)\n",
    "\n"
   ]
  },
  {
   "cell_type": "code",
   "execution_count": 5,
   "id": "34cf1b0e",
   "metadata": {},
   "outputs": [
    {
     "name": "stdin",
     "output_type": "stream",
     "text": [
      "enter a number: 60\n"
     ]
    },
    {
     "name": "stdout",
     "output_type": "stream",
     "text": [
      "Number is positive and even\n"
     ]
    }
   ],
   "source": [
    "#Q4b. Logical Operators - 'and', 'or','not' - Script to check if a number is positive and even\n",
    "\n",
    "num = int(input(\"enter a number:\"))\n",
    "if (num!=0 and num >0):\n",
    "  if num%2==0:\n",
    "    print(\"Number is positive and even\")\n",
    "  else:\n",
    "    print(\"Number is positive and odd\")\n",
    "elif num==0:\n",
    "  print(\"Number is zero\")\n",
    "else:\n",
    "  print(\"Number is negative\")\n",
    "\n"
   ]
  },
  {
   "cell_type": "code",
   "execution_count": null,
   "id": "e37fc97c",
   "metadata": {},
   "outputs": [],
   "source": [
    "#Q5a. What is type casting and difference between implicit and explicit type casting with examples\n",
    "Type Casting is a process that converts a variable's data type into another data type. It can be implicit or explicit.\n",
    "Implicit type casting - Converst the data type into another data type automatically\n",
    "Explicit type casting - Converst the data type into another data type using constructor functions\n"
   ]
  },
  {
   "cell_type": "code",
   "execution_count": 11,
   "id": "81080809-65e0-4ffe-8d80-f9f5d77f3a9a",
   "metadata": {},
   "outputs": [
    {
     "name": "stdout",
     "output_type": "stream",
     "text": [
      "<class 'int'>\n",
      "<class 'float'>\n",
      "<class 'float'>\n"
     ]
    }
   ],
   "source": [
    "#Example of Implicit Type Casting\n",
    "a1 = 10\n",
    "a2 = 7.5\n",
    "sum = a1+a2\n",
    "\n",
    "print(type(a1)) # python automatically converts value into integer\n",
    "print(type(a2)) # python automatically converts value into float\n",
    "print(type(sum)) #python automatically converts the addtion into float\n",
    "\n"
   ]
  },
  {
   "cell_type": "code",
   "execution_count": 27,
   "id": "97e222ad-7665-4369-843e-0700007c8c29",
   "metadata": {},
   "outputs": [
    {
     "name": "stdout",
     "output_type": "stream",
     "text": [
      "09\n",
      "Type of Value_1: <class 'str'>\n",
      "9\n",
      "Type of Value_2: <class 'int'>\n"
     ]
    }
   ],
   "source": [
    "#Example of Explicit Type Casting\n",
    "Value_1 = '09'\n",
    "Value_2 = int(Value_1)\n",
    "\n",
    "print(Value_1)\n",
    "print(\"Type of Value_1:\",type(Value_1))\n",
    "print(Value_2)\n",
    "print(\"Type of Value_2:\",type(Value_2))\n",
    "\n"
   ]
  },
  {
   "cell_type": "code",
   "execution_count": 29,
   "id": "780785d5-44e4-4be0-9bad-0312a129be6f",
   "metadata": {},
   "outputs": [
    {
     "name": "stdout",
     "output_type": "stream",
     "text": [
      "17.09\n",
      "Type of X1: <class 'float'>\n",
      "17\n",
      "Type of X2: <class 'int'>\n"
     ]
    }
   ],
   "source": [
    "#Q5b_1. Script to convert a float into an integer\n",
    "X1 = 17.09\n",
    "X2 = int(X1)\n",
    "\n",
    "print(X1)\n",
    "print(\"Type of X1:\",type(X1))\n",
    "print(X2)\n",
    "print(\"Type of X2:\",type(X2))\n"
   ]
  },
  {
   "cell_type": "code",
   "execution_count": 31,
   "id": "d2a72287-352b-45cc-9fe5-2cdca0ed5ff2",
   "metadata": {},
   "outputs": [
    {
     "name": "stdout",
     "output_type": "stream",
     "text": [
      "17\n",
      "Type of X1: <class 'int'>\n",
      "17\n",
      "Type of X2: <class 'str'>\n"
     ]
    }
   ],
   "source": [
    "#Q5b_2. Script to convert an integer into a string\n",
    "X1 = 17\n",
    "X2 = str(X1)\n",
    "\n",
    "print(X1)\n",
    "print(\"Type of X1:\",type(X1))\n",
    "print(X2)\n",
    "print(\"Type of X2:\",type(X2))\n"
   ]
  },
  {
   "cell_type": "code",
   "execution_count": 35,
   "id": "907adb05-c527-4a6c-aa02-8732827c344a",
   "metadata": {},
   "outputs": [
    {
     "name": "stdout",
     "output_type": "stream",
     "text": [
      "17.5\n",
      "Type of X1: <class 'str'>\n",
      "17.5\n",
      "Type of X2: <class 'float'>\n"
     ]
    }
   ],
   "source": [
    "#Q5b_3. Script to convert a string into a float\n",
    "X1 = '17.5'\n",
    "X2 = float(X1)\n",
    "\n",
    "print(X1)\n",
    "print(\"Type of X1:\",type(X1))\n",
    "print(X2)\n",
    "print(\"Type of X2:\",type(X2))\n"
   ]
  },
  {
   "cell_type": "code",
   "execution_count": 39,
   "id": "4236cd55-48f2-4f72-86b3-f750623bc573",
   "metadata": {},
   "outputs": [
    {
     "name": "stdin",
     "output_type": "stream",
     "text": [
      "Enter the first number:  17\n",
      "Enter the second number:  9\n"
     ]
    },
    {
     "name": "stdout",
     "output_type": "stream",
     "text": [
      "Addition -  26.0\n",
      "Subtraction -  8.0\n",
      "Multiplication -  153.0\n",
      "Division -  1.8888888888888888\n",
      "Type of Sum: <class 'str'>\n"
     ]
    }
   ],
   "source": [
    "#Q6. Mini Calculator\n",
    "\n",
    "X1 = float(input(\"Enter the first number: \"))\n",
    "X2 = float(input(\"Enter the second number: \"))\n",
    "\n",
    "# Addition\n",
    "Addition = X1 + X2\n",
    "print(\"Addition - \", Addition)\n",
    "\n",
    "# Subtraction\n",
    "Subtraction = X1 - X2\n",
    "print(\"Subtraction - \", Subtraction)\n",
    "\n",
    "# Multiplication\n",
    "Multiplication = X1 * X2\n",
    "print(\"Multiplication - \", Multiplication)\n",
    "\n",
    "# Division\n",
    "if X2 != 0:\n",
    "    Division = X1 / X2\n",
    "    print(\"Division - \", Division)\n",
    "else:\n",
    "    print(\"Division by zero is not allowed.\")\n",
    "\n",
    "# Convert the sum to a string and print the type\n",
    "Addition_String = str(Addition)\n",
    "print(\"Type of Sum:\", type(Addition_String))"
   ]
  }
 ],
 "metadata": {
  "kernelspec": {
   "display_name": "Python 3 (ipykernel)",
   "language": "python",
   "name": "python3"
  },
  "language_info": {
   "codemirror_mode": {
    "name": "ipython",
    "version": 3
   },
   "file_extension": ".py",
   "mimetype": "text/x-python",
   "name": "python",
   "nbconvert_exporter": "python",
   "pygments_lexer": "ipython3",
   "version": "3.12.4"
  }
 },
 "nbformat": 4,
 "nbformat_minor": 5
}
