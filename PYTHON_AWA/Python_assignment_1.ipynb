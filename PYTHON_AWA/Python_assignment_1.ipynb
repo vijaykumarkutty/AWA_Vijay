{
 "cells": [
  {
   "cell_type": "code",
   "execution_count": null,
   "id": "0af92b2e-0686-41c1-a80a-78a4fbbae379",
   "metadata": {},
   "outputs": [],
   "source": [
    "#Vijaykumar Kutty\n",
    "#30th Aug 2024"
   ]
  },
  {
   "cell_type": "code",
   "execution_count": null,
   "id": "9a3d59d3-4e48-47da-834e-ad9f1b67381e",
   "metadata": {},
   "outputs": [],
   "source": [
    "#Q1.a Understanding variables - Defined Variable that stores the name"
   ]
  },
  {
   "cell_type": "code",
   "execution_count": 4,
   "id": "985f6e3c-2da7-4364-a91a-cae6473eb5d8",
   "metadata": {},
   "outputs": [
    {
     "name": "stdout",
     "output_type": "stream",
     "text": [
      "Vijaykumar Kutty\n"
     ]
    }
   ],
   "source": [
    "First_name = \"Vijaykumar Kutty\"\n",
    "print (First_name)"
   ]
  },
  {
   "cell_type": "code",
   "execution_count": null,
   "id": "bf733333-9248-4ed1-9c32-088d06eae32d",
   "metadata": {},
   "outputs": [],
   "source": [
    "#Q2. Working with Different Data Types along with display of type\n",
    "1#. Integer - An Integer is whole number without decimal points"
   ]
  },
  {
   "cell_type": "code",
   "execution_count": 12,
   "id": "fd972bab-bd8d-4777-b71d-0d06a5edf053",
   "metadata": {},
   "outputs": [
    {
     "data": {
      "text/plain": [
       "int"
      ]
     },
     "execution_count": 12,
     "metadata": {},
     "output_type": "execute_result"
    }
   ],
   "source": [
    "VJ_Integer = 17\n",
    "type (VJ_Integer)"
   ]
  },
  {
   "cell_type": "code",
   "execution_count": null,
   "id": "281376b2-886d-410f-b8f1-ea7331fdc12c",
   "metadata": {},
   "outputs": [],
   "source": [
    "#2. Float - Number with decimal points"
   ]
  },
  {
   "cell_type": "code",
   "execution_count": 14,
   "id": "c7e678f4-a35b-431f-9535-fcbf36c7308d",
   "metadata": {},
   "outputs": [
    {
     "data": {
      "text/plain": [
       "float"
      ]
     },
     "execution_count": 14,
     "metadata": {},
     "output_type": "execute_result"
    }
   ],
   "source": [
    "VJ_Float = 17.092016\n",
    "type (VJ_Float)"
   ]
  },
  {
   "cell_type": "code",
   "execution_count": null,
   "id": "a5477834-afd0-4ad5-b218-55ab76fa1714",
   "metadata": {},
   "outputs": [],
   "source": [
    "#3. String - String is sequence of characters present in quotes"
   ]
  },
  {
   "cell_type": "code",
   "execution_count": 16,
   "id": "65684afb-24b1-42f4-a898-08e6105afd0c",
   "metadata": {},
   "outputs": [
    {
     "data": {
      "text/plain": [
       "str"
      ]
     },
     "execution_count": 16,
     "metadata": {},
     "output_type": "execute_result"
    }
   ],
   "source": [
    "VJ_String = \"Welcome To Python Course with AWA\"\n",
    "type (VJ_String)"
   ]
  },
  {
   "cell_type": "code",
   "execution_count": null,
   "id": "63ea5f3c-5033-4d57-9e3e-0e340742f723",
   "metadata": {},
   "outputs": [],
   "source": [
    "#4. Boolean - It represents one of the two values either \"True\" or \"False\""
   ]
  },
  {
   "cell_type": "code",
   "execution_count": 20,
   "id": "83aa9dfb-8779-4e01-8350-dac204c8c58b",
   "metadata": {},
   "outputs": [
    {
     "data": {
      "text/plain": [
       "bool"
      ]
     },
     "execution_count": 20,
     "metadata": {},
     "output_type": "execute_result"
    }
   ],
   "source": [
    "VJ_boolean = False\n",
    "type (VJ_boolean)"
   ]
  },
  {
   "cell_type": "code",
   "execution_count": null,
   "id": "09f5aeb0-6095-4da3-9adc-78136fddeef2",
   "metadata": {},
   "outputs": [],
   "source": [
    "#Q3.a Arithmetic Operators\n",
    "#1 Addition ('+') - To Add numbers together"
   ]
  },
  {
   "cell_type": "code",
   "execution_count": 28,
   "id": "3c590aa2-66d7-440c-893c-ae7785d8446d",
   "metadata": {},
   "outputs": [
    {
     "name": "stdout",
     "output_type": "stream",
     "text": [
      "Total of addition is  60\n"
     ]
    }
   ],
   "source": [
    "Value_1 = 10\n",
    "Value_2 = 20\n",
    "Value_3 = 30\n",
    "\n",
    "Total = Value_1 + Value_2 + Value_3\n",
    "print(\"Total of addition is \",Total)"
   ]
  },
  {
   "cell_type": "code",
   "execution_count": null,
   "id": "bf18f70d-004e-41d4-8547-e61c03abc1cb",
   "metadata": {},
   "outputs": [],
   "source": [
    "#2 Subtraction ('-') - To subtract number "
   ]
  },
  {
   "cell_type": "code",
   "execution_count": 34,
   "id": "c6d7838c-da3b-49b7-80cd-a7bb05d79fde",
   "metadata": {},
   "outputs": [
    {
     "name": "stdout",
     "output_type": "stream",
     "text": [
      "Total subtraction is  30\n"
     ]
    }
   ],
   "source": [
    "Value_1 = 50\n",
    "Value_2 = 20\n",
    "Total = Value_1 - Value_2\n",
    "print(\"Total of subtraction is \",Total)"
   ]
  },
  {
   "cell_type": "code",
   "execution_count": null,
   "id": "f7bb9033-a35e-4df9-9222-f57fd209bd1c",
   "metadata": {},
   "outputs": [],
   "source": [
    "#3 Multiplication ('*') - To multiply numbers"
   ]
  },
  {
   "cell_type": "code",
   "execution_count": 36,
   "id": "9151adca-9ee1-4e3b-82bf-8bada9d4a3d8",
   "metadata": {},
   "outputs": [
    {
     "name": "stdout",
     "output_type": "stream",
     "text": [
      "Total of multiplication is  1000\n"
     ]
    }
   ],
   "source": [
    "Value_1 = 50\n",
    "Value_2 = 20\n",
    "Total = Value_1 * Value_2\n",
    "print(\"Total of multiplication is \",Total)"
   ]
  },
  {
   "cell_type": "code",
   "execution_count": null,
   "id": "d7aba1e3-f745-44c2-b02b-2f18fb111429",
   "metadata": {},
   "outputs": [],
   "source": [
    "#4 Division ('/') - To divide numbers"
   ]
  },
  {
   "cell_type": "code",
   "execution_count": 42,
   "id": "18bd5a02-58c9-4730-856a-b29e8ff251ee",
   "metadata": {},
   "outputs": [
    {
     "name": "stdout",
     "output_type": "stream",
     "text": [
      "Total of division is  2.5\n"
     ]
    }
   ],
   "source": [
    "Value_1 = 50\n",
    "Value_2 = 20\n",
    "Total = Value_1 / Value_2\n",
    "print(\"Total of division is \",Total)"
   ]
  },
  {
   "cell_type": "code",
   "execution_count": null,
   "id": "e14fa228-0fd1-4ed4-9378-96261aecd8be",
   "metadata": {},
   "outputs": [],
   "source": [
    "#5 Floor Division ('//') - To divide numbers and returing value will be the quotient without the remainder"
   ]
  },
  {
   "cell_type": "code",
   "execution_count": 50,
   "id": "da480c26-55bb-4ebc-bde4-395b9f3cc6ae",
   "metadata": {},
   "outputs": [
    {
     "name": "stdout",
     "output_type": "stream",
     "text": [
      "Total of floor division is  12\n"
     ]
    }
   ],
   "source": [
    "Value_1 = 50\n",
    "Value_2 = 4\n",
    "Total = Value_1 // Value_2\n",
    "print(\"Total of floor division is \",Total)"
   ]
  },
  {
   "cell_type": "code",
   "execution_count": null,
   "id": "b117cea4-b8c8-4290-9ac3-d40f3e702898",
   "metadata": {},
   "outputs": [],
   "source": [
    "#6. Modulus('%') - Returns the remainder of the division of 1st number by the 2nd number"
   ]
  },
  {
   "cell_type": "code",
   "execution_count": 58,
   "id": "8665e74a-5f1d-4bae-9940-59632968cf4b",
   "metadata": {},
   "outputs": [
    {
     "name": "stdout",
     "output_type": "stream",
     "text": [
      "Total of Modulus is  2\n"
     ]
    }
   ],
   "source": [
    "Value_1 = 17\n",
    "Value_2 = 5\n",
    "Total = Value_1 % Value_2\n",
    "print(\"Total of Modulus is \",Total)"
   ]
  },
  {
   "cell_type": "code",
   "execution_count": null,
   "id": "0a68fe9b-b515-454e-b3a8-584ba8d89f5a",
   "metadata": {},
   "outputs": [],
   "source": [
    "#7. Exponentiation(**) - Raises the 1st number to the power of 2nd number"
   ]
  },
  {
   "cell_type": "code",
   "execution_count": 64,
   "id": "0542fdff-d820-4050-94de-2a2b696f5fd8",
   "metadata": {},
   "outputs": [
    {
     "name": "stdout",
     "output_type": "stream",
     "text": [
      "Total of Exponentiation is  225\n"
     ]
    }
   ],
   "source": [
    "Value_1 = 15\n",
    "Value_2 = 2\n",
    "Total = Value_1 ** Value_2\n",
    "print(\"Total of Exponentiation is \",Total)"
   ]
  },
  {
   "cell_type": "code",
   "execution_count": 66,
   "id": "9262cfa1-bdd3-4f13-9da5-d778d5e5d733",
   "metadata": {},
   "outputs": [
    {
     "name": "stdout",
     "output_type": "stream",
     "text": [
      "Area Of Rectangle : 50\n"
     ]
    }
   ],
   "source": [
    "#Q3.b Calculate the area of a rectangle\n",
    "\n",
    "#Defining the variables for calculation\n",
    "length = 5\n",
    "width = 10\n",
    "\n",
    "#Calcualtion\n",
    "Area = (length*width)\n",
    "\n",
    "print(\"Area Of Rectangle :\",Area)"
   ]
  },
  {
   "cell_type": "code",
   "execution_count": 76,
   "id": "9e9af72e-672d-4bcb-b957-4a548fc551f0",
   "metadata": {},
   "outputs": [
    {
     "data": {
      "text/plain": [
       "False"
      ]
     },
     "execution_count": 76,
     "metadata": {},
     "output_type": "execute_result"
    }
   ],
   "source": [
    "#Q4. Comparison and Logical Operators - Explanation with examples\n",
    "#1. Equal to ('==') - To check if two values are equal\n",
    "#e.g. with different values\n",
    "Value_1 = 15\n",
    "Value_2 = 2\n",
    "Value_1 == Value_2 # Answer is false because 15 is not equal to 2"
   ]
  },
  {
   "cell_type": "code",
   "execution_count": 72,
   "id": "cbbed48a-e3ad-4c07-a8b1-e6b0920e5e14",
   "metadata": {},
   "outputs": [
    {
     "data": {
      "text/plain": [
       "True"
      ]
     },
     "execution_count": 72,
     "metadata": {},
     "output_type": "execute_result"
    }
   ],
   "source": [
    "#e.g. with equal values\n",
    "Value_1 = 15\n",
    "Value_2 = 15\n",
    "Value_1 == Value_2 # Answer is True because 15 is equal to 15\n"
   ]
  },
  {
   "cell_type": "code",
   "execution_count": 78,
   "id": "0b684227-f0ef-4e1e-93d8-5d76df34ba6c",
   "metadata": {},
   "outputs": [
    {
     "data": {
      "text/plain": [
       "True"
      ]
     },
     "execution_count": 78,
     "metadata": {},
     "output_type": "execute_result"
    }
   ],
   "source": [
    "#2. Not Equal to ('!=') - To check if two values are not equal\n",
    "#e.g. with different values\n",
    "Value_1 = 15\n",
    "Value_2 = 2\n",
    "Value_1 != Value_2 # Answer is True because 15 is not equal to 2"
   ]
  },
  {
   "cell_type": "code",
   "execution_count": 80,
   "id": "c8641549-edfd-41a0-9a0c-f54d39911e7f",
   "metadata": {},
   "outputs": [
    {
     "data": {
      "text/plain": [
       "False"
      ]
     },
     "execution_count": 80,
     "metadata": {},
     "output_type": "execute_result"
    }
   ],
   "source": [
    "#e.g. with equal values\n",
    "Value_1 = 15\n",
    "Value_2 = 15\n",
    "Value_1 != Value_2 # Answer is False because 15 is equal to 15\n"
   ]
  },
  {
   "cell_type": "code",
   "execution_count": null,
   "id": "f4f13b24-5545-4123-a193-e9487b47d961",
   "metadata": {},
   "outputs": [],
   "source": []
  }
 ],
 "metadata": {
  "kernelspec": {
   "display_name": "Python 3 (ipykernel)",
   "language": "python",
   "name": "python3"
  },
  "language_info": {
   "codemirror_mode": {
    "name": "ipython",
    "version": 3
   },
   "file_extension": ".py",
   "mimetype": "text/x-python",
   "name": "python",
   "nbconvert_exporter": "python",
   "pygments_lexer": "ipython3",
   "version": "3.12.4"
  }
 },
 "nbformat": 4,
 "nbformat_minor": 5
}
